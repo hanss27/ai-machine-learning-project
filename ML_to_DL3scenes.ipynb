{
  "nbformat": 4,
  "nbformat_minor": 0,
  "metadata": {
    "colab": {
      "name": "ML to DL3scenes.ipynb",
      "provenance": []
    },
    "kernelspec": {
      "name": "python3",
      "display_name": "Python 3"
    },
    "language_info": {
      "name": "python"
    }
  },
  "cells": [
    {
      "cell_type": "code",
      "metadata": {
        "id": "o0gwUsLVFOAi"
      },
      "source": [
        "# Library yang akan dipakai\n",
        "import zipfile\n",
        "import os\n",
        "import tensorflow as tf\n",
        "import numpy as np\n",
        "from keras.models import Sequential\n",
        "from keras.layers.convolutional import Conv2D, AveragePooling2D, MaxPooling2D\n",
        "from keras.layers import BatchNormalization\n",
        "from keras.layers.core import Dense, Dropout, Flatten\n",
        "\n",
        "# Untuk load data\n",
        "from imutils import paths\n",
        "from PIL import Image\n",
        "import argparse\n",
        "import matplotlib.pyplot as plt # untuk menampilkan contoh gambar/data dalam gambar\n",
        "\n",
        "# Untuk Data Loading -> yang membagi data\n",
        "from sklearn.preprocessing import LabelBinarizer # Untuk binarisasi label\n",
        "from sklearn.model_selection import train_test_split # Untuk ngesplit data train & test\n",
        "from sklearn.metrics import classification_report # Untuk performance measurement, untuk menghasilkan confusion matriks"
      ],
      "execution_count": null,
      "outputs": []
    },
    {
      "cell_type": "code",
      "metadata": {
        "colab": {
          "base_uri": "https://localhost:8080/"
        },
        "id": "CDui7yOeGzda",
        "outputId": "0e14bc2f-061f-474a-b797-55d1b558d932"
      },
      "source": [
        "# Import data from GDrive\n",
        "from google.colab import drive\n",
        "drive.mount('/content/gdrive')"
      ],
      "execution_count": null,
      "outputs": [
        {
          "output_type": "stream",
          "text": [
            "Drive already mounted at /content/gdrive; to attempt to forcibly remount, call drive.mount(\"/content/gdrive\", force_remount=True).\n"
          ],
          "name": "stdout"
        }
      ]
    },
    {
      "cell_type": "code",
      "metadata": {
        "id": "glu4LwQNHEgB"
      },
      "source": [
        "!cd \"/content/gdrive/MyDrive/Colab Notebooks/FGA/ML to DL Image Classification/3scenes\""
      ],
      "execution_count": null,
      "outputs": []
    },
    {
      "cell_type": "code",
      "metadata": {
        "colab": {
          "base_uri": "https://localhost:8080/"
        },
        "id": "tiDEzWydHUup",
        "outputId": "18f8f42d-abac-40a5-ff16-1c3ac5ac864d"
      },
      "source": [
        "# Check Data Labels\n",
        "!ls \"/content/gdrive/MyDrive/Colab Notebooks/FGA/ML to DL Image Classification/3scenes\""
      ],
      "execution_count": null,
      "outputs": [
        {
          "output_type": "stream",
          "text": [
            "coast  forest  highway\n"
          ],
          "name": "stdout"
        }
      ]
    },
    {
      "cell_type": "code",
      "metadata": {
        "colab": {
          "base_uri": "https://localhost:8080/"
        },
        "id": "nl7Uf6I8HiEF",
        "outputId": "28d86edf-ed0f-4f19-9f66-7effc56d3ccb"
      },
      "source": [
        "# construct the argument parser and parse the arguments\n",
        "# grab all image paths in the input dataset directory, then initialize\n",
        "# our list of images and corresponding class labels\n",
        "print(\"[INFO] loading images...\")\n",
        "imagePaths = paths.list_images(\"/content/gdrive/MyDrive/Colab Notebooks/FGA/ML to DL Image Classification/3scenes\")\n",
        "data = []\n",
        "labels = []"
      ],
      "execution_count": null,
      "outputs": [
        {
          "output_type": "stream",
          "text": [
            "[INFO] loading images...\n"
          ],
          "name": "stdout"
        }
      ]
    },
    {
      "cell_type": "code",
      "metadata": {
        "id": "xZaWUn-8H2HP"
      },
      "source": [
        "# loop over our input images\n",
        "for imagePath in imagePaths:\n",
        "\t# load the input image from disk, resize it to 32x32 pixels, scale\n",
        "\t# the pixel intensities to the range [0, 1], and then update our\n",
        "\t# images list\n",
        "\timage = Image.open(imagePath)\n",
        "\timage = np.array(image.resize((32, 32))) / 255.0\n",
        "\tdata.append(image)\n",
        "\t# extract the class label from the file path and update the\n",
        "\t# labels list\n",
        "\tlabel = imagePath.split(os.path.sep)[-2]\n",
        "\t# label = imagePath.title\n",
        "\tlabels.append(label)\n",
        "\t# print(label)"
      ],
      "execution_count": null,
      "outputs": []
    },
    {
      "cell_type": "code",
      "metadata": {
        "colab": {
          "base_uri": "https://localhost:8080/"
        },
        "id": "GfJskCEoIx6j",
        "outputId": "3a6ab28f-d9d9-4f8f-8294-7b73e3675aa8"
      },
      "source": [
        "# encode the labels, converting them from strings to integers\n",
        "print(label)\n",
        "\n",
        "lb = LabelBinarizer()\n",
        "labels = lb.fit_transform(labels)\n",
        "# lb.classes_\n",
        "lb.classes_"
      ],
      "execution_count": null,
      "outputs": [
        {
          "output_type": "stream",
          "text": [
            "highway\n"
          ],
          "name": "stdout"
        },
        {
          "output_type": "execute_result",
          "data": {
            "text/plain": [
              "array(['coast', 'forest', 'highway'], dtype='<U7')"
            ]
          },
          "metadata": {},
          "execution_count": 7
        }
      ]
    },
    {
      "cell_type": "code",
      "metadata": {
        "id": "9puQtPZZJE37"
      },
      "source": [
        "# perform a training and testing split, using 75% of the data for\n",
        "# training and 25% for evaluation\n",
        "(trainX, testX, trainY, testY) = train_test_split(np.array(data),\n",
        "\tnp.array(labels), test_size=0.25)"
      ],
      "execution_count": null,
      "outputs": []
    },
    {
      "cell_type": "code",
      "metadata": {
        "colab": {
          "base_uri": "https://localhost:8080/",
          "height": 382
        },
        "id": "4ToB-B9lJLSh",
        "outputId": "814986d9-ed52-468b-f46c-e12e70424674"
      },
      "source": [
        "tes_data = testX[90]\n",
        "plt.imshow(tes_data)\n",
        "print(trainY)"
      ],
      "execution_count": null,
      "outputs": [
        {
          "output_type": "stream",
          "text": [
            "[[1 0 0]\n",
            " [0 1 0]\n",
            " [0 1 0]\n",
            " ...\n",
            " [0 0 1]\n",
            " [0 0 1]\n",
            " [0 1 0]]\n"
          ],
          "name": "stdout"
        },
        {
          "output_type": "display_data",
          "data": {
            "image/png": "[encoded data removed]",
            "text/plain": [
              "<Figure size 432x288 with 1 Axes>"
            ]
          },
          "metadata": {
            "needs_background": "light"
          }
        }
      ]
    },
    {
      "cell_type": "code",
      "metadata": {
        "colab": {
          "base_uri": "https://localhost:8080/"
        },
        "id": "5QeoPee0K2Jd",
        "outputId": "187de191-3691-4196-f894-58b70db7c0e4"
      },
      "source": [
        "# define our Convolutional Neural Network architecture\n",
        "model = Sequential()\n",
        "model.add(Conv2D(32, (3, 3), padding=\"same\", input_shape=(32, 32, 3), activation = 'relu'))\n",
        "model.add(BatchNormalization())\n",
        "model.add(AveragePooling2D(pool_size=(2, 2), strides=(2, 2)))\n",
        "model.add(Conv2D(32, (3, 3), padding=\"same\", activation = 'relu'))\n",
        "model.add(BatchNormalization())\n",
        "model.add(AveragePooling2D(pool_size=(2, 2), strides=(2, 2)))\n",
        "model.add(Conv2D(32, (3, 3), padding=\"same\", activation = 'relu'))\n",
        "model.add(MaxPooling2D(pool_size=(2, 2), strides=(2, 2)))\n",
        "model.add(BatchNormalization())\n",
        "\n",
        "model.add(Flatten())\n",
        "model.add(Dense(3, activation = 'softmax'))\n",
        "model.summary()"
      ],
      "execution_count": null,
      "outputs": [
        {
          "output_type": "stream",
          "text": [
            "Model: \"sequential\"\n",
            "_________________________________________________________________\n",
            "Layer (type)                 Output Shape              Param #   \n",
            "=================================================================\n",
            "conv2d (Conv2D)              (None, 32, 32, 32)        896       \n",
            "_________________________________________________________________\n",
            "batch_normalization (BatchNo (None, 32, 32, 32)        128       \n",
            "_________________________________________________________________\n",
            "average_pooling2d (AveragePo (None, 16, 16, 32)        0         \n",
            "_________________________________________________________________\n",
            "conv2d_1 (Conv2D)            (None, 16, 16, 32)        9248      \n",
            "_________________________________________________________________\n",
            "batch_normalization_1 (Batch (None, 16, 16, 32)        128       \n",
            "_________________________________________________________________\n",
            "average_pooling2d_1 (Average (None, 8, 8, 32)          0         \n",
            "_________________________________________________________________\n",
            "conv2d_2 (Conv2D)            (None, 8, 8, 32)          9248      \n",
            "_________________________________________________________________\n",
            "max_pooling2d (MaxPooling2D) (None, 4, 4, 32)          0         \n",
            "_________________________________________________________________\n",
            "batch_normalization_2 (Batch (None, 4, 4, 32)          128       \n",
            "_________________________________________________________________\n",
            "flatten (Flatten)            (None, 512)               0         \n",
            "_________________________________________________________________\n",
            "dense (Dense)                (None, 3)                 1539      \n",
            "=================================================================\n",
            "Total params: 21,315\n",
            "Trainable params: 21,123\n",
            "Non-trainable params: 192\n",
            "_________________________________________________________________\n"
          ],
          "name": "stdout"
        }
      ]
    },
    {
      "cell_type": "code",
      "metadata": {
        "colab": {
          "base_uri": "https://localhost:8080/"
        },
        "id": "0eb2RugVLzwl",
        "outputId": "a3c3410c-3092-49d9-e86c-f2570b1ff750"
      },
      "source": [
        "model.compile(loss=\"categorical_crossentropy\", \n",
        "              optimizer=tf.optimizers.Adam(learning_rate=1e-3, decay=1e-3 / 50),\n",
        "              metrics=[\"accuracy\"])\n",
        "model.fit(trainX, trainY, validation_data=(testX, testY),validation_steps=5,epochs=50, batch_size=32)"
      ],
      "execution_count": null,
      "outputs": [
        {
          "output_type": "stream",
          "text": [
            "Epoch 1/50\n",
            "23/23 [==============================] - 2s 77ms/step - loss: 0.7633 - accuracy: 0.7032 - val_loss: 1.0507 - val_accuracy: 0.6187\n",
            "Epoch 2/50\n",
            "23/23 [==============================] - 1s 64ms/step - loss: 0.3954 - accuracy: 0.8425 - val_loss: 1.0531 - val_accuracy: 0.3750\n",
            "Epoch 3/50\n",
            "23/23 [==============================] - 2s 68ms/step - loss: 0.3040 - accuracy: 0.8706 - val_loss: 1.0542 - val_accuracy: 0.3750\n",
            "Epoch 4/50\n",
            "23/23 [==============================] - 1s 64ms/step - loss: 0.2166 - accuracy: 0.9339 - val_loss: 1.0704 - val_accuracy: 0.3750\n",
            "Epoch 5/50\n",
            "23/23 [==============================] - 1s 63ms/step - loss: 0.2085 - accuracy: 0.9170 - val_loss: 1.1110 - val_accuracy: 0.3750\n",
            "Epoch 6/50\n",
            "23/23 [==============================] - 1s 64ms/step - loss: 0.1601 - accuracy: 0.9451 - val_loss: 1.0278 - val_accuracy: 0.4375\n",
            "Epoch 7/50\n",
            "23/23 [==============================] - 1s 64ms/step - loss: 0.1344 - accuracy: 0.9606 - val_loss: 1.1310 - val_accuracy: 0.3938\n",
            "Epoch 8/50\n",
            "23/23 [==============================] - 1s 64ms/step - loss: 0.1155 - accuracy: 0.9719 - val_loss: 1.2959 - val_accuracy: 0.3750\n",
            "Epoch 9/50\n",
            "23/23 [==============================] - 1s 65ms/step - loss: 0.1010 - accuracy: 0.9719 - val_loss: 1.4083 - val_accuracy: 0.3812\n",
            "Epoch 10/50\n",
            "23/23 [==============================] - 1s 65ms/step - loss: 0.0709 - accuracy: 0.9887 - val_loss: 1.4616 - val_accuracy: 0.3750\n",
            "Epoch 11/50\n",
            "23/23 [==============================] - 1s 64ms/step - loss: 0.0665 - accuracy: 0.9831 - val_loss: 1.3284 - val_accuracy: 0.3812\n",
            "Epoch 12/50\n",
            "23/23 [==============================] - 1s 65ms/step - loss: 0.0684 - accuracy: 0.9859 - val_loss: 1.7338 - val_accuracy: 0.3812\n",
            "Epoch 13/50\n",
            "23/23 [==============================] - 1s 64ms/step - loss: 0.0704 - accuracy: 0.9845 - val_loss: 1.4865 - val_accuracy: 0.5063\n",
            "Epoch 14/50\n",
            "23/23 [==============================] - 1s 63ms/step - loss: 0.0483 - accuracy: 0.9887 - val_loss: 1.3016 - val_accuracy: 0.5375\n",
            "Epoch 15/50\n",
            "23/23 [==============================] - 2s 67ms/step - loss: 0.0358 - accuracy: 0.9944 - val_loss: 1.0851 - val_accuracy: 0.6000\n",
            "Epoch 16/50\n",
            "23/23 [==============================] - 2s 66ms/step - loss: 0.0247 - accuracy: 0.9986 - val_loss: 1.2554 - val_accuracy: 0.5813\n",
            "Epoch 17/50\n",
            "23/23 [==============================] - 2s 67ms/step - loss: 0.0197 - accuracy: 0.9986 - val_loss: 1.4188 - val_accuracy: 0.5688\n",
            "Epoch 18/50\n",
            "23/23 [==============================] - 1s 63ms/step - loss: 0.0186 - accuracy: 0.9986 - val_loss: 1.2072 - val_accuracy: 0.5750\n",
            "Epoch 19/50\n",
            "23/23 [==============================] - 2s 65ms/step - loss: 0.0178 - accuracy: 1.0000 - val_loss: 1.1051 - val_accuracy: 0.6500\n",
            "Epoch 20/50\n",
            "23/23 [==============================] - 1s 64ms/step - loss: 0.0176 - accuracy: 1.0000 - val_loss: 0.7128 - val_accuracy: 0.7000\n",
            "Epoch 21/50\n",
            "23/23 [==============================] - 1s 62ms/step - loss: 0.0165 - accuracy: 0.9958 - val_loss: 0.5976 - val_accuracy: 0.7812\n",
            "Epoch 22/50\n",
            "23/23 [==============================] - 1s 63ms/step - loss: 0.0159 - accuracy: 0.9986 - val_loss: 0.7325 - val_accuracy: 0.7125\n",
            "Epoch 23/50\n",
            "23/23 [==============================] - 1s 65ms/step - loss: 0.0190 - accuracy: 0.9958 - val_loss: 0.5912 - val_accuracy: 0.7688\n",
            "Epoch 24/50\n",
            "23/23 [==============================] - 1s 63ms/step - loss: 0.0154 - accuracy: 0.9972 - val_loss: 0.4329 - val_accuracy: 0.8375\n",
            "Epoch 25/50\n",
            "23/23 [==============================] - 1s 62ms/step - loss: 0.0112 - accuracy: 1.0000 - val_loss: 0.3152 - val_accuracy: 0.8875\n",
            "Epoch 26/50\n",
            "23/23 [==============================] - 1s 63ms/step - loss: 0.0171 - accuracy: 0.9986 - val_loss: 0.2576 - val_accuracy: 0.9062\n",
            "Epoch 27/50\n",
            "23/23 [==============================] - 1s 62ms/step - loss: 0.0104 - accuracy: 1.0000 - val_loss: 0.2717 - val_accuracy: 0.9062\n",
            "Epoch 28/50\n",
            "23/23 [==============================] - 1s 63ms/step - loss: 0.0085 - accuracy: 1.0000 - val_loss: 0.3620 - val_accuracy: 0.9000\n",
            "Epoch 29/50\n",
            "23/23 [==============================] - 1s 64ms/step - loss: 0.0043 - accuracy: 1.0000 - val_loss: 0.2389 - val_accuracy: 0.9000\n",
            "Epoch 30/50\n",
            "23/23 [==============================] - 1s 65ms/step - loss: 0.0036 - accuracy: 1.0000 - val_loss: 0.2377 - val_accuracy: 0.9125\n",
            "Epoch 31/50\n",
            "23/23 [==============================] - 2s 66ms/step - loss: 0.0028 - accuracy: 1.0000 - val_loss: 0.2223 - val_accuracy: 0.9125\n",
            "Epoch 32/50\n",
            "23/23 [==============================] - 1s 64ms/step - loss: 0.0024 - accuracy: 1.0000 - val_loss: 0.2136 - val_accuracy: 0.9125\n",
            "Epoch 33/50\n",
            "23/23 [==============================] - 2s 68ms/step - loss: 0.0024 - accuracy: 1.0000 - val_loss: 0.2148 - val_accuracy: 0.9187\n",
            "Epoch 34/50\n",
            "23/23 [==============================] - 2s 66ms/step - loss: 0.0075 - accuracy: 0.9986 - val_loss: 0.3122 - val_accuracy: 0.9000\n",
            "Epoch 35/50\n",
            "23/23 [==============================] - 2s 66ms/step - loss: 0.1431 - accuracy: 0.9494 - val_loss: 2.1211 - val_accuracy: 0.5875\n",
            "Epoch 36/50\n",
            "23/23 [==============================] - 1s 64ms/step - loss: 0.0959 - accuracy: 0.9620 - val_loss: 0.3372 - val_accuracy: 0.8875\n",
            "Epoch 37/50\n",
            "23/23 [==============================] - 2s 66ms/step - loss: 0.0523 - accuracy: 0.9831 - val_loss: 0.4139 - val_accuracy: 0.8500\n",
            "Epoch 38/50\n",
            "23/23 [==============================] - 1s 65ms/step - loss: 0.0403 - accuracy: 0.9859 - val_loss: 0.2909 - val_accuracy: 0.9062\n",
            "Epoch 39/50\n",
            "23/23 [==============================] - 2s 67ms/step - loss: 0.0154 - accuracy: 1.0000 - val_loss: 0.3722 - val_accuracy: 0.8938\n",
            "Epoch 40/50\n",
            "23/23 [==============================] - 2s 68ms/step - loss: 0.0081 - accuracy: 1.0000 - val_loss: 0.2917 - val_accuracy: 0.9062\n",
            "Epoch 41/50\n",
            "23/23 [==============================] - 2s 67ms/step - loss: 0.0065 - accuracy: 1.0000 - val_loss: 0.2827 - val_accuracy: 0.9000\n",
            "Epoch 42/50\n",
            "23/23 [==============================] - 1s 65ms/step - loss: 0.0048 - accuracy: 1.0000 - val_loss: 0.2516 - val_accuracy: 0.8875\n",
            "Epoch 43/50\n",
            "23/23 [==============================] - 2s 66ms/step - loss: 0.0046 - accuracy: 1.0000 - val_loss: 0.2334 - val_accuracy: 0.9062\n",
            "Epoch 44/50\n",
            "23/23 [==============================] - 2s 66ms/step - loss: 0.0031 - accuracy: 1.0000 - val_loss: 0.1954 - val_accuracy: 0.9250\n",
            "Epoch 45/50\n",
            "23/23 [==============================] - 1s 66ms/step - loss: 0.0037 - accuracy: 1.0000 - val_loss: 0.1968 - val_accuracy: 0.9375\n",
            "Epoch 46/50\n",
            "23/23 [==============================] - 2s 66ms/step - loss: 0.0060 - accuracy: 1.0000 - val_loss: 0.2408 - val_accuracy: 0.9375\n",
            "Epoch 47/50\n",
            "23/23 [==============================] - 1s 65ms/step - loss: 0.0045 - accuracy: 1.0000 - val_loss: 0.2025 - val_accuracy: 0.9375\n",
            "Epoch 48/50\n",
            "23/23 [==============================] - 2s 66ms/step - loss: 0.0085 - accuracy: 0.9986 - val_loss: 0.3165 - val_accuracy: 0.9187\n",
            "Epoch 49/50\n",
            "23/23 [==============================] - 1s 65ms/step - loss: 0.0061 - accuracy: 1.0000 - val_loss: 0.3431 - val_accuracy: 0.9125\n",
            "Epoch 50/50\n",
            "23/23 [==============================] - 1s 65ms/step - loss: 0.0038 - accuracy: 1.0000 - val_loss: 0.2650 - val_accuracy: 0.9000\n"
          ],
          "name": "stdout"
        },
        {
          "output_type": "execute_result",
          "data": {
            "text/plain": [
              "<keras.callbacks.History at 0x7fa7ae327b10>"
            ]
          },
          "metadata": {},
          "execution_count": 11
        }
      ]
    },
    {
      "cell_type": "code",
      "metadata": {
        "colab": {
          "base_uri": "https://localhost:8080/"
        },
        "id": "KBGeA_lyMi1h",
        "outputId": "2ecb88f5-50cd-4248-d444-e0cb44ed717e"
      },
      "source": [
        "predictions = model.predict(testX, batch_size=32)\n",
        "print(classification_report(testY.argmax(axis=1),\n",
        "\t    predictions.argmax(axis=1), target_names= lb.classes_))"
      ],
      "execution_count": null,
      "outputs": [
        {
          "output_type": "stream",
          "text": [
            "              precision    recall  f1-score   support\n",
            "\n",
            "       coast       0.94      0.90      0.92        92\n",
            "      forest       0.92      0.97      0.94        90\n",
            "     highway       0.87      0.85      0.86        55\n",
            "\n",
            "    accuracy                           0.92       237\n",
            "   macro avg       0.91      0.91      0.91       237\n",
            "weighted avg       0.92      0.92      0.92       237\n",
            "\n"
          ],
          "name": "stdout"
        }
      ]
    },
    {
      "cell_type": "code",
      "metadata": {
        "id": "j0u1XvJ3N5mq"
      },
      "source": [
        "model.save(\"/content/gdrive/MyDrive/Colab Notebooks/FGA/ML to DL Image Classification/cnn_test3class.hdf5\")"
      ],
      "execution_count": null,
      "outputs": []
    },
    {
      "cell_type": "code",
      "metadata": {
        "colab": {
          "base_uri": "https://localhost:8080/",
          "height": 282
        },
        "id": "mojjyJ7XN6XQ",
        "outputId": "e89a39ac-9750-401f-a271-33f509ab7e1c"
      },
      "source": [
        "# imagePaths = paths.list_images(\"/content/drive/My Drive/Colab Notebooks/forest_test.jpg\")\n",
        "image = Image.open(\"/content/gdrive/MyDrive/Colab Notebooks/FGA/ML to DL Image Classification/forest_test.jpg\")\n",
        "image = np.array(image.resize((32, 32))) / 255.0\n",
        "plt.imshow(image)\n"
      ],
      "execution_count": null,
      "outputs": [
        {
          "output_type": "execute_result",
          "data": {
            "text/plain": [
              "<matplotlib.image.AxesImage at 0x7fa7ae0e6550>"
            ]
          },
          "metadata": {},
          "execution_count": 21
        },
        {
          "output_type": "display_data",
          "data": {
            "image/png": "[encoded data removed]",
            "text/plain": [
              "<Figure size 432x288 with 1 Axes>"
            ]
          },
          "metadata": {
            "needs_background": "light"
          }
        }
      ]
    },
    {
      "cell_type": "code",
      "metadata": {
        "colab": {
          "base_uri": "https://localhost:8080/"
        },
        "id": "v-RY6CY0QKTy",
        "outputId": "175f7e41-47a3-4eba-affa-8fd10ab1015a"
      },
      "source": [
        "model.load_weights(\"/content/gdrive/MyDrive/Colab Notebooks/FGA/ML to DL Image Classification/cnn_test3class.hdf5\")\n",
        "image2 = np.expand_dims(image, axis=0)\n",
        "pred = model.predict(image2)\n",
        "print(pred)\n",
        "y_classes = pred.argmax(axis=1)\n",
        "print(y_classes)\n",
        "print(lb.classes_[y_classes])\n",
        "# y_classes = keras.np_utils.probas_to_classes(pred)\n",
        "# print(y_classes)\n",
        "# print(\"hasil klasifikasi =\",lb.classes_[pred[0]])"
      ],
      "execution_count": null,
      "outputs": [
        {
          "output_type": "stream",
          "text": [
            "[[5.1081686e-05 9.9618620e-01 3.7627683e-03]]\n",
            "[1]\n",
            "['forest']\n"
          ],
          "name": "stdout"
        }
      ]
    }
  ]
}